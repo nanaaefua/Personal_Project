{
 "cells": [
  {
   "cell_type": "code",
   "execution_count": 1,
   "metadata": {},
   "outputs": [],
   "source": [
    "import json\n",
    "import pandas as pd\n",
    "import numpy as np\n",
    "\n",
    "import re\n",
    "\n",
    "from sqlalchemy import create_engine\n",
    "import psycopg2\n",
    "\n",
    "# from config import db_password\n",
    "\n",
    "import time"
   ]
  },
  {
   "cell_type": "code",
   "execution_count": null,
   "metadata": {},
   "outputs": [],
   "source": []
  },
  {
   "cell_type": "code",
   "execution_count": null,
   "metadata": {},
   "outputs": [],
   "source": [
    "def extract_transfer_load():\n",
    "\n",
    "    titles = pd.read_csv(\"../Resources/titles.csv\")\n",
    "    credits = pd.read_csv(\"../Resources/credits.csv\")\n",
    "\n",
    "    titles_df = pd.DataFrame(titles)\n",
    "    credits_df = pd.DataFrame(credits)\n",
    "\n",
    "    credits_df = credits_df.drop(columns=['character'])\n",
    "    titles2_df = titles_df.drop(columns=[\"description\", \"seasons\"])\n",
    "\n",
    "    titles3_df = titles2_df.rename({'type':'movie'}, axis=\"columns\")\n",
    "    titles4_df = titles3_df[titles3_df['movie'].str.contains('MOVIE')]\n",
    "\n",
    "    titles5_df = titles4_df[titles4_df['production_countries'].str.contains('US')]\n",
    "\n",
    "    cleaned_titles_df = titles5_df\n",
    "\n",
    "     # Add the code to create the connection to the PostgreSQL database, then add the movies_df DataFrame to a SQL database.\n",
    "    # \"postgres://[user]:[password]@[location]:[port]/[database]\"\n",
    "    db_string = f\"postgresql://postgres:{db_password}@[location]/database_name\"\n",
    "    # Create the database engine\n",
    "    engine = create_engine(db_string)\n",
    "    # Save df to SQL table\n",
    "    cleaned_titles_df.to_sql(name='titles', con=engine, if_exists='replace')\n",
    "    credits_df.to_sql(name='credits', con=engine, if_exists='replace')\n",
    "\n",
    "     # Create the path to your file directory and variables for the files.\n",
    "     file_dir = ' #Path '\n",
    "\n"
   ]
  }
 ],
 "metadata": {
  "kernelspec": {
   "display_name": "Python 3.7.6 ('PythonData')",
   "language": "python",
   "name": "python3"
  },
  "language_info": {
   "codemirror_mode": {
    "name": "ipython",
    "version": 3
   },
   "file_extension": ".py",
   "mimetype": "text/x-python",
   "name": "python",
   "nbconvert_exporter": "python",
   "pygments_lexer": "ipython3",
   "version": "3.7.6"
  },
  "orig_nbformat": 4,
  "vscode": {
   "interpreter": {
    "hash": "fcbd1d899e2589b09a17554031c32842e524957600f5946fe1e3ecf77021f783"
   }
  }
 },
 "nbformat": 4,
 "nbformat_minor": 2
}
